{
 "cells": [
  {
   "cell_type": "code",
   "execution_count": 174,
   "id": "919049d5-0932-4036-82dd-fb6e2901996a",
   "metadata": {
    "tags": []
   },
   "outputs": [
    {
     "data": {
      "text/html": [
       "<div>\n",
       "    <img src=\"https://www.camoni.co.il/webfiles/images/cache/782X426/zcX1/webfiles/camoni/cms_files/headers/header_151212041.jpg\" width=\"800\" alt=\"Reading Pandas\"/>\n",
       "    <figcaption style=\"text-align:center;\">\n",
       "        <small></small>\n",
       "    </figcaption>\n",
       "</div>\n"
      ],
      "text/plain": [
       "<IPython.core.display.HTML object>"
      ]
     },
     "metadata": {},
     "output_type": "display_data"
    }
   ],
   "source": [
    "%%html\n",
    "<div>\n",
    "    <img src=\"https://www.camoni.co.il/webfiles/images/cache/782X426/zcX1/webfiles/camoni/cms_files/headers/header_151212041.jpg\" width=\"800\" alt=\"Reading Pandas\"/>\n",
    "    <figcaption style=\"text-align:center;\">\n",
    "        <small></small>\n",
    "    </figcaption>\n",
    "</div>"
   ]
  },
  {
   "cell_type": "code",
   "execution_count": 130,
   "id": "2586c6d9-965c-4c7f-9e7e-fe7316cc6678",
   "metadata": {
    "tags": []
   },
   "outputs": [],
   "source": [
    "import pandas as pd\n",
    "import numpy as np\n",
    "import seaborn as sns\n",
    "import requests\n",
    "from PIL import Image\n",
    "from io import BytesIO\n",
    "import matplotlib.image as mpimg\n",
    "import matplotlib.pyplot as plt\n",
    "from IPython.display import Image\n",
    "from datetime import date\n",
    "import numpy as np\n",
    "from sklearn.linear_model import LinearRegression\n",
    "from scipy.stats import pearsonr\n",
    "import matplotlib.ticker as mtick\n",
    "import matplotlib.pyplot as plt\n",
    "from matplotlib.animation import FuncAnimation"
   ]
  },
  {
   "cell_type": "code",
   "execution_count": 35,
   "id": "a58f3ca0-7d88-4c68-beae-ed2cd21c5f00",
   "metadata": {
    "tags": []
   },
   "outputs": [],
   "source": [
    "url = 'https://raw.githubusercontent.com/ariel7525/Wellbeing_and_lifestyle_data_Kaggle/main/Wellbeing_and_lifestyle_data_Kaggle.csv'\n",
    "life_df = pd.read_csv(url)"
   ]
  },
  {
   "cell_type": "code",
   "execution_count": 36,
   "id": "169b4a90-02bf-44c8-841c-ccc80cb10967",
   "metadata": {
    "tags": []
   },
   "outputs": [
    {
     "data": {
      "text/html": [
       "<div>\n",
       "<style scoped>\n",
       "    .dataframe tbody tr th:only-of-type {\n",
       "        vertical-align: middle;\n",
       "    }\n",
       "\n",
       "    .dataframe tbody tr th {\n",
       "        vertical-align: top;\n",
       "    }\n",
       "\n",
       "    .dataframe thead th {\n",
       "        text-align: right;\n",
       "    }\n",
       "</style>\n",
       "<table border=\"1\" class=\"dataframe\">\n",
       "  <thead>\n",
       "    <tr style=\"text-align: right;\">\n",
       "      <th></th>\n",
       "      <th>Timestamp</th>\n",
       "      <th>FRUITS_VEGGIES</th>\n",
       "      <th>DAILY_STRESS</th>\n",
       "      <th>PLACES_VISITED</th>\n",
       "      <th>CORE_CIRCLE</th>\n",
       "      <th>SUPPORTING_OTHERS</th>\n",
       "      <th>SOCIAL_NETWORK</th>\n",
       "      <th>ACHIEVEMENT</th>\n",
       "      <th>DONATION</th>\n",
       "      <th>BMI_RANGE</th>\n",
       "      <th>...</th>\n",
       "      <th>SLEEP_HOURS</th>\n",
       "      <th>LOST_VACATION</th>\n",
       "      <th>DAILY_SHOUTING</th>\n",
       "      <th>SUFFICIENT_INCOME</th>\n",
       "      <th>PERSONAL_AWARDS</th>\n",
       "      <th>TIME_FOR_PASSION</th>\n",
       "      <th>WEEKLY_MEDITATION</th>\n",
       "      <th>AGE</th>\n",
       "      <th>GENDER</th>\n",
       "      <th>WORK_LIFE_BALANCE_SCORE</th>\n",
       "    </tr>\n",
       "  </thead>\n",
       "  <tbody>\n",
       "    <tr>\n",
       "      <th>0</th>\n",
       "      <td>07/07/2015</td>\n",
       "      <td>3</td>\n",
       "      <td>2</td>\n",
       "      <td>2</td>\n",
       "      <td>5</td>\n",
       "      <td>0</td>\n",
       "      <td>5</td>\n",
       "      <td>2</td>\n",
       "      <td>0</td>\n",
       "      <td>1</td>\n",
       "      <td>...</td>\n",
       "      <td>7</td>\n",
       "      <td>5</td>\n",
       "      <td>5</td>\n",
       "      <td>1</td>\n",
       "      <td>4</td>\n",
       "      <td>0</td>\n",
       "      <td>5</td>\n",
       "      <td>36 to 50</td>\n",
       "      <td>Female</td>\n",
       "      <td>609.5</td>\n",
       "    </tr>\n",
       "    <tr>\n",
       "      <th>1</th>\n",
       "      <td>07/07/2015</td>\n",
       "      <td>2</td>\n",
       "      <td>3</td>\n",
       "      <td>4</td>\n",
       "      <td>3</td>\n",
       "      <td>8</td>\n",
       "      <td>10</td>\n",
       "      <td>5</td>\n",
       "      <td>2</td>\n",
       "      <td>2</td>\n",
       "      <td>...</td>\n",
       "      <td>8</td>\n",
       "      <td>2</td>\n",
       "      <td>2</td>\n",
       "      <td>2</td>\n",
       "      <td>3</td>\n",
       "      <td>2</td>\n",
       "      <td>6</td>\n",
       "      <td>36 to 50</td>\n",
       "      <td>Female</td>\n",
       "      <td>655.6</td>\n",
       "    </tr>\n",
       "    <tr>\n",
       "      <th>2</th>\n",
       "      <td>07/07/2015</td>\n",
       "      <td>2</td>\n",
       "      <td>3</td>\n",
       "      <td>3</td>\n",
       "      <td>4</td>\n",
       "      <td>4</td>\n",
       "      <td>10</td>\n",
       "      <td>3</td>\n",
       "      <td>2</td>\n",
       "      <td>2</td>\n",
       "      <td>...</td>\n",
       "      <td>8</td>\n",
       "      <td>10</td>\n",
       "      <td>2</td>\n",
       "      <td>2</td>\n",
       "      <td>4</td>\n",
       "      <td>8</td>\n",
       "      <td>3</td>\n",
       "      <td>36 to 50</td>\n",
       "      <td>Female</td>\n",
       "      <td>631.6</td>\n",
       "    </tr>\n",
       "    <tr>\n",
       "      <th>3</th>\n",
       "      <td>07/07/2015</td>\n",
       "      <td>3</td>\n",
       "      <td>3</td>\n",
       "      <td>10</td>\n",
       "      <td>3</td>\n",
       "      <td>10</td>\n",
       "      <td>7</td>\n",
       "      <td>2</td>\n",
       "      <td>5</td>\n",
       "      <td>2</td>\n",
       "      <td>...</td>\n",
       "      <td>5</td>\n",
       "      <td>7</td>\n",
       "      <td>5</td>\n",
       "      <td>1</td>\n",
       "      <td>5</td>\n",
       "      <td>2</td>\n",
       "      <td>0</td>\n",
       "      <td>51 or more</td>\n",
       "      <td>Female</td>\n",
       "      <td>622.7</td>\n",
       "    </tr>\n",
       "    <tr>\n",
       "      <th>4</th>\n",
       "      <td>07/07/2015</td>\n",
       "      <td>5</td>\n",
       "      <td>1</td>\n",
       "      <td>3</td>\n",
       "      <td>3</td>\n",
       "      <td>10</td>\n",
       "      <td>4</td>\n",
       "      <td>2</td>\n",
       "      <td>4</td>\n",
       "      <td>2</td>\n",
       "      <td>...</td>\n",
       "      <td>7</td>\n",
       "      <td>0</td>\n",
       "      <td>0</td>\n",
       "      <td>2</td>\n",
       "      <td>8</td>\n",
       "      <td>1</td>\n",
       "      <td>5</td>\n",
       "      <td>51 or more</td>\n",
       "      <td>Female</td>\n",
       "      <td>663.9</td>\n",
       "    </tr>\n",
       "    <tr>\n",
       "      <th>...</th>\n",
       "      <td>...</td>\n",
       "      <td>...</td>\n",
       "      <td>...</td>\n",
       "      <td>...</td>\n",
       "      <td>...</td>\n",
       "      <td>...</td>\n",
       "      <td>...</td>\n",
       "      <td>...</td>\n",
       "      <td>...</td>\n",
       "      <td>...</td>\n",
       "      <td>...</td>\n",
       "      <td>...</td>\n",
       "      <td>...</td>\n",
       "      <td>...</td>\n",
       "      <td>...</td>\n",
       "      <td>...</td>\n",
       "      <td>...</td>\n",
       "      <td>...</td>\n",
       "      <td>...</td>\n",
       "      <td>...</td>\n",
       "      <td>...</td>\n",
       "    </tr>\n",
       "    <tr>\n",
       "      <th>15967</th>\n",
       "      <td>3/14/21 5:42</td>\n",
       "      <td>3</td>\n",
       "      <td>3</td>\n",
       "      <td>0</td>\n",
       "      <td>4</td>\n",
       "      <td>0</td>\n",
       "      <td>10</td>\n",
       "      <td>0</td>\n",
       "      <td>4</td>\n",
       "      <td>2</td>\n",
       "      <td>...</td>\n",
       "      <td>7</td>\n",
       "      <td>0</td>\n",
       "      <td>1</td>\n",
       "      <td>1</td>\n",
       "      <td>5</td>\n",
       "      <td>2</td>\n",
       "      <td>5</td>\n",
       "      <td>51 or more</td>\n",
       "      <td>Female</td>\n",
       "      <td>644.5</td>\n",
       "    </tr>\n",
       "    <tr>\n",
       "      <th>15968</th>\n",
       "      <td>3/14/21 6:30</td>\n",
       "      <td>3</td>\n",
       "      <td>3</td>\n",
       "      <td>6</td>\n",
       "      <td>8</td>\n",
       "      <td>7</td>\n",
       "      <td>4</td>\n",
       "      <td>6</td>\n",
       "      <td>3</td>\n",
       "      <td>1</td>\n",
       "      <td>...</td>\n",
       "      <td>6</td>\n",
       "      <td>0</td>\n",
       "      <td>0</td>\n",
       "      <td>2</td>\n",
       "      <td>10</td>\n",
       "      <td>5</td>\n",
       "      <td>8</td>\n",
       "      <td>21 to 35</td>\n",
       "      <td>Female</td>\n",
       "      <td>714.9</td>\n",
       "    </tr>\n",
       "    <tr>\n",
       "      <th>15969</th>\n",
       "      <td>3/14/21 8:35</td>\n",
       "      <td>4</td>\n",
       "      <td>3</td>\n",
       "      <td>0</td>\n",
       "      <td>10</td>\n",
       "      <td>10</td>\n",
       "      <td>8</td>\n",
       "      <td>6</td>\n",
       "      <td>5</td>\n",
       "      <td>1</td>\n",
       "      <td>...</td>\n",
       "      <td>7</td>\n",
       "      <td>0</td>\n",
       "      <td>1</td>\n",
       "      <td>2</td>\n",
       "      <td>10</td>\n",
       "      <td>1</td>\n",
       "      <td>10</td>\n",
       "      <td>21 to 35</td>\n",
       "      <td>Male</td>\n",
       "      <td>716.6</td>\n",
       "    </tr>\n",
       "    <tr>\n",
       "      <th>15970</th>\n",
       "      <td>3/14/21 8:43</td>\n",
       "      <td>1</td>\n",
       "      <td>1</td>\n",
       "      <td>10</td>\n",
       "      <td>8</td>\n",
       "      <td>2</td>\n",
       "      <td>7</td>\n",
       "      <td>3</td>\n",
       "      <td>2</td>\n",
       "      <td>1</td>\n",
       "      <td>...</td>\n",
       "      <td>8</td>\n",
       "      <td>7</td>\n",
       "      <td>2</td>\n",
       "      <td>2</td>\n",
       "      <td>1</td>\n",
       "      <td>6</td>\n",
       "      <td>8</td>\n",
       "      <td>21 to 35</td>\n",
       "      <td>Female</td>\n",
       "      <td>682.0</td>\n",
       "    </tr>\n",
       "    <tr>\n",
       "      <th>15971</th>\n",
       "      <td>3/14/21 9:03</td>\n",
       "      <td>5</td>\n",
       "      <td>4</td>\n",
       "      <td>0</td>\n",
       "      <td>2</td>\n",
       "      <td>10</td>\n",
       "      <td>10</td>\n",
       "      <td>5</td>\n",
       "      <td>1</td>\n",
       "      <td>2</td>\n",
       "      <td>...</td>\n",
       "      <td>8</td>\n",
       "      <td>5</td>\n",
       "      <td>2</td>\n",
       "      <td>2</td>\n",
       "      <td>1</td>\n",
       "      <td>8</td>\n",
       "      <td>4</td>\n",
       "      <td>21 to 35</td>\n",
       "      <td>Female</td>\n",
       "      <td>651.4</td>\n",
       "    </tr>\n",
       "  </tbody>\n",
       "</table>\n",
       "<p>15972 rows × 24 columns</p>\n",
       "</div>"
      ],
      "text/plain": [
       "          Timestamp  FRUITS_VEGGIES DAILY_STRESS  PLACES_VISITED  CORE_CIRCLE  \\\n",
       "0        07/07/2015               3            2               2            5   \n",
       "1        07/07/2015               2            3               4            3   \n",
       "2        07/07/2015               2            3               3            4   \n",
       "3        07/07/2015               3            3              10            3   \n",
       "4        07/07/2015               5            1               3            3   \n",
       "...             ...             ...          ...             ...          ...   \n",
       "15967  3/14/21 5:42               3            3               0            4   \n",
       "15968  3/14/21 6:30               3            3               6            8   \n",
       "15969  3/14/21 8:35               4            3               0           10   \n",
       "15970  3/14/21 8:43               1            1              10            8   \n",
       "15971  3/14/21 9:03               5            4               0            2   \n",
       "\n",
       "       SUPPORTING_OTHERS  SOCIAL_NETWORK  ACHIEVEMENT  DONATION  BMI_RANGE  \\\n",
       "0                      0               5            2         0          1   \n",
       "1                      8              10            5         2          2   \n",
       "2                      4              10            3         2          2   \n",
       "3                     10               7            2         5          2   \n",
       "4                     10               4            2         4          2   \n",
       "...                  ...             ...          ...       ...        ...   \n",
       "15967                  0              10            0         4          2   \n",
       "15968                  7               4            6         3          1   \n",
       "15969                 10               8            6         5          1   \n",
       "15970                  2               7            3         2          1   \n",
       "15971                 10              10            5         1          2   \n",
       "\n",
       "       ...  SLEEP_HOURS  LOST_VACATION  DAILY_SHOUTING  SUFFICIENT_INCOME  \\\n",
       "0      ...            7              5               5                  1   \n",
       "1      ...            8              2               2                  2   \n",
       "2      ...            8             10               2                  2   \n",
       "3      ...            5              7               5                  1   \n",
       "4      ...            7              0               0                  2   \n",
       "...    ...          ...            ...             ...                ...   \n",
       "15967  ...            7              0               1                  1   \n",
       "15968  ...            6              0               0                  2   \n",
       "15969  ...            7              0               1                  2   \n",
       "15970  ...            8              7               2                  2   \n",
       "15971  ...            8              5               2                  2   \n",
       "\n",
       "       PERSONAL_AWARDS  TIME_FOR_PASSION  WEEKLY_MEDITATION         AGE  \\\n",
       "0                    4                 0                  5    36 to 50   \n",
       "1                    3                 2                  6    36 to 50   \n",
       "2                    4                 8                  3    36 to 50   \n",
       "3                    5                 2                  0  51 or more   \n",
       "4                    8                 1                  5  51 or more   \n",
       "...                ...               ...                ...         ...   \n",
       "15967                5                 2                  5  51 or more   \n",
       "15968               10                 5                  8    21 to 35   \n",
       "15969               10                 1                 10    21 to 35   \n",
       "15970                1                 6                  8    21 to 35   \n",
       "15971                1                 8                  4    21 to 35   \n",
       "\n",
       "       GENDER  WORK_LIFE_BALANCE_SCORE  \n",
       "0      Female                    609.5  \n",
       "1      Female                    655.6  \n",
       "2      Female                    631.6  \n",
       "3      Female                    622.7  \n",
       "4      Female                    663.9  \n",
       "...       ...                      ...  \n",
       "15967  Female                    644.5  \n",
       "15968  Female                    714.9  \n",
       "15969    Male                    716.6  \n",
       "15970  Female                    682.0  \n",
       "15971  Female                    651.4  \n",
       "\n",
       "[15972 rows x 24 columns]"
      ]
     },
     "execution_count": 36,
     "metadata": {},
     "output_type": "execute_result"
    }
   ],
   "source": [
    "life_df"
   ]
  },
  {
   "cell_type": "code",
   "execution_count": null,
   "id": "b726b743-9b93-4d41-8e96-ab94146bdf3d",
   "metadata": {},
   "outputs": [],
   "source": [
    "#כמה פירות וירקות אתה צורך ביום ומי צורך יותר מבוגרים או ילדים? גברים או נשים? ואיך צריכת ירקות ופירות משפיעות על מספר הצעדים היומי שלך   ?"
   ]
  },
  {
   "cell_type": "code",
   "execution_count": 98,
   "id": "54330e86-8eda-47bc-92aa-789df451e841",
   "metadata": {
    "tags": []
   },
   "outputs": [
    {
     "name": "stdout",
     "output_type": "stream",
     "text": [
      "מספר הנשים: 9858\n",
      "מספר הגברים: 6114\n"
     ]
    }
   ],
   "source": [
    "# סופרים את מספר הגברים והנשים\n",
    "gender_counts = data['GENDER'].value_counts()\n",
    "\n",
    "# מדפיסים את התוצאות\n",
    "print(f\"מספר הנשים: {gender_counts['Female']}\")\n",
    "print(f\"מספר הגברים: {gender_counts['Male']}\")"
   ]
  },
  {
   "cell_type": "code",
   "execution_count": null,
   "id": "1714bd5f-62c8-4b65-b535-ff1f3c8bce6a",
   "metadata": {},
   "outputs": [],
   "source": [
    "#גרף עוגה של מספר נשים וגברים במחקר "
   ]
  },
  {
   "cell_type": "code",
   "execution_count": 126,
   "id": "12cf32d5-f0c0-4943-a7d6-7d82bf691526",
   "metadata": {
    "tags": []
   },
   "outputs": [
    {
     "data": {
      "image/png": "[encoded data removed]",
      "text/plain": [
       "<Figure size 500x500 with 1 Axes>"
      ]
     },
     "metadata": {},
     "output_type": "display_data"
    }
   ],
   "source": [
    "# Calculate the number of males and females in the dataset\n",
    "gender_counts = life_df['GENDER'].value_counts()\n",
    "\n",
    "# Plotting the pie chart for the number of males and females\n",
    "plt.figure(figsize=(5, 5))\n",
    "plt.pie(gender_counts, labels=gender_counts.index, autopct='%1.1f%%', startangle=140, colors=['pink', 'skyblue'])\n",
    "plt.title('Distribution of Males and Females in the Study')\n",
    "plt.show()"
   ]
  },
  {
   "cell_type": "code",
   "execution_count": null,
   "id": "95824e1b-1768-43ea-b5ea-c3d9e5a0ea79",
   "metadata": {},
   "outputs": [],
   "source": [
    "# כמה גברים אוכלים פירות וירקות וכמה נשים אוכלות ?"
   ]
  },
  {
   "cell_type": "code",
   "execution_count": 100,
   "id": "b17dc544-d780-4f7a-b524-9e4bf75b7b32",
   "metadata": {
    "tags": []
   },
   "outputs": [
    {
     "name": "stdout",
     "output_type": "stream",
     "text": [
      "מספר הנשים שאכלו פירות וירקות: 9602\n",
      "מספר הגברים שאכלו פירות וירקות: 5818\n"
     ]
    }
   ],
   "source": [
    "# Count the number of females who ate fruits and veggies\n",
    "num_females_fruits = life_df[(life_df['GENDER'] == 'Female') & (life_df['FRUITS_VEGGIES'] > 0)].shape[0]\n",
    "\n",
    "# Count the number of males who ate fruits and veggies\n",
    "num_males_fruits = life_df[(life_df['GENDER'] == 'Male') & (life_df['FRUITS_VEGGIES'] > 0)].shape[0]\n",
    "\n",
    "print(\"מספר הנשים שאכלו פירות וירקות:\", num_females_fruits)\n",
    "print(\"מספר הגברים שאכלו פירות וירקות:\", num_males_fruits)"
   ]
  },
  {
   "cell_type": "code",
   "execution_count": null,
   "id": "d9213540-10cf-443f-9af5-42e33f24b4c0",
   "metadata": {},
   "outputs": [],
   "source": [
    "#פילוח לפי שכבות גיל באוכלוסיה בקרב גברים שכן אוכלים פירות וירקות "
   ]
  },
  {
   "cell_type": "code",
   "execution_count": 103,
   "id": "cc5e9ac0-860a-4874-b2d4-fac5f78b783d",
   "metadata": {
    "tags": []
   },
   "outputs": [
    {
     "name": "stdout",
     "output_type": "stream",
     "text": [
      "            AGE  COUNT\n",
      "0  Less than 20    698\n",
      "1      21 to 35   2411\n",
      "2      36 to 50   1630\n",
      "3    51 or more   1079\n"
     ]
    }
   ],
   "source": [
    "\n",
    "\n",
    "# Define the age order\n",
    "age_order = ['Less than 20', '21 to 35', '36 to 50', '51 or more']\n",
    "\n",
    "# Filter and group males who ate fruits and veggies by age\n",
    "male_fruits_by_age = life_df[(life_df['GENDER'] == 'Male') & (life_df['FRUITS_VEGGIES'] > 0)]\\\n",
    "    .groupby('AGE').size().reset_index(name='COUNT')\n",
    "\n",
    "# Sort by age order\n",
    "male_fruits_by_age['AGE'] = pd.Categorical(male_fruits_by_age['AGE'], categories=age_order, ordered=True)\n",
    "male_fruits_by_age = male_fruits_by_age.sort_values('AGE').reset_index(drop=True)\n",
    "\n",
    "print(male_fruits_by_age)"
   ]
  },
  {
   "cell_type": "code",
   "execution_count": null,
   "id": "d4eb48bd-add7-4ba4-8717-24db51355749",
   "metadata": {},
   "outputs": [],
   "source": [
    "#פילוח לפי שכבות גיל באוכלוסיה בקרב נשים שכן אוכלות פירות וירקות"
   ]
  },
  {
   "cell_type": "code",
   "execution_count": 104,
   "id": "f14be1ee-0ac3-408b-a77e-3fbada5c7c64",
   "metadata": {
    "tags": []
   },
   "outputs": [
    {
     "name": "stdout",
     "output_type": "stream",
     "text": [
      "            AGE  COUNT\n",
      "0  Less than 20   1020\n",
      "1      21 to 35   3424\n",
      "2      36 to 50   2906\n",
      "3    51 or more   2252\n"
     ]
    }
   ],
   "source": [
    "\n",
    "# Define the age order\n",
    "age_order = ['Less than 20', '21 to 35', '36 to 50', '51 or more']\n",
    "\n",
    "# Filter and group females who ate fruits and veggies by age\n",
    "female_fruits_by_age = life_df[(life_df['GENDER'] == 'Female') & (life_df['FRUITS_VEGGIES'] > 0)]\\\n",
    "    .groupby('AGE').size().reset_index(name='COUNT')\n",
    "\n",
    "# Sort by age order\n",
    "female_fruits_by_age['AGE'] = pd.Categorical(female_fruits_by_age['AGE'], categories=age_order, ordered=True)\n",
    "female_fruits_by_age = female_fruits_by_age.sort_values('AGE').reset_index(drop=True)\n",
    "\n",
    "print(female_fruits_by_age)"
   ]
  },
  {
   "cell_type": "code",
   "execution_count": 96,
   "id": "e5ed8ebb-c53f-49ef-93b7-d55fe34cb060",
   "metadata": {
    "tags": []
   },
   "outputs": [],
   "source": [
    "#ניתן לראות שהשכבת גיל שצורכת הכי הרבה פירות וירקות בקרב גברים ונשים היא 21-35 "
   ]
  },
  {
   "cell_type": "code",
   "execution_count": 160,
   "id": "293de760-bfb2-4c4f-bada-b7681d36c2df",
   "metadata": {
    "tags": []
   },
   "outputs": [
    {
     "data": {
      "text/html": [
       "<div>\n",
       "    <img src=\"https://www.shvoong.co.il/wp-content/uploads/2020/12/shutterstock_3211583961.jpg\" width=\"800\" alt=\"Reading Pandas\"/>\n",
       "    <figcaption style=\"text-align:center;\">\n",
       "        <small></small>\n",
       "    </figcaption>\n",
       "</div>\n"
      ],
      "text/plain": [
       "<IPython.core.display.HTML object>"
      ]
     },
     "metadata": {},
     "output_type": "display_data"
    }
   ],
   "source": [
    "%%html\n",
    "<div>\n",
    "    <img src=\"https://www.shvoong.co.il/wp-content/uploads/2020/12/shutterstock_3211583961.jpg\" width=\"800\" alt=\"Reading Pandas\"/>\n",
    "    <figcaption style=\"text-align:center;\">\n",
    "        <small></small>\n",
    "    </figcaption>\n",
    "</div>"
   ]
  },
  {
   "cell_type": "code",
   "execution_count": 105,
   "id": "7209f574-a68d-4520-8fa7-ee1b3c7e3703",
   "metadata": {
    "tags": []
   },
   "outputs": [],
   "source": [
    "#סכום הצעדים הכולל של כל המשתתפים במחקר "
   ]
  },
  {
   "cell_type": "code",
   "execution_count": 106,
   "id": "cd37698e-0960-4e97-8912-3e6ad0eca67b",
   "metadata": {
    "tags": []
   },
   "outputs": [
    {
     "data": {
      "text/plain": [
       "91098"
      ]
     },
     "execution_count": 106,
     "metadata": {},
     "output_type": "execute_result"
    }
   ],
   "source": [
    "# Calculate the total number of daily steps in the entire dataset\n",
    "total_daily_steps = life_df['DAILY_STEPS'].sum()\n",
    "\n",
    "total_daily_steps"
   ]
  },
  {
   "cell_type": "code",
   "execution_count": 107,
   "id": "a6803165-901c-4242-b9cc-cde1a54b9abe",
   "metadata": {
    "tags": []
   },
   "outputs": [],
   "source": [
    "# כמה מתוכם נשים וכמה גברים "
   ]
  },
  {
   "cell_type": "code",
   "execution_count": 132,
   "id": "5ffa2b81-a5f4-41d1-a8d9-9ee3ed7fd820",
   "metadata": {
    "tags": []
   },
   "outputs": [
    {
     "name": "stdout",
     "output_type": "stream",
     "text": [
      "מספר צעדים שצעדו נשים:\n",
      "55381\n",
      "מספר צעדים שצעדו גברים:\n",
      "35717\n"
     ]
    }
   ],
   "source": [
    "# Calculate the total number of daily steps for females and males in the entire dataset\n",
    "total_female_steps_all = life_df[life_df['GENDER'] == 'Female']['DAILY_STEPS'].sum()\n",
    "total_male_steps_all = life_df[life_df['GENDER'] == 'Male']['DAILY_STEPS'].sum()\n",
    "\n",
    "print(\"מספר צעדים שצעדו נשים:\")\n",
    "print(total_female_steps_all)\n",
    "\n",
    "print(\"מספר צעדים שצעדו גברים:\")\n",
    "print(total_male_steps_all)"
   ]
  },
  {
   "cell_type": "code",
   "execution_count": null,
   "id": "06affb9c-0b8f-473b-94d4-1054ac7e22d3",
   "metadata": {},
   "outputs": [],
   "source": [
    "#גרף עוגה מיוחד לכמות צעדים גברים ונשים "
   ]
  },
  {
   "cell_type": "code",
   "execution_count": null,
   "id": "3bfb8331-fc3f-45d3-9839-3712f771020e",
   "metadata": {},
   "outputs": [],
   "source": []
  },
  {
   "cell_type": "code",
   "execution_count": null,
   "id": "dd3d3235-a01e-4e5c-b895-0858310d9277",
   "metadata": {},
   "outputs": [],
   "source": [
    "# כמה מתוכם אלו נשים וגברים שצורכים פירות וירקות "
   ]
  },
  {
   "cell_type": "code",
   "execution_count": 110,
   "id": "de8ffd2a-bc5e-49ba-ae97-9dffd8aaf71c",
   "metadata": {
    "tags": []
   },
   "outputs": [
    {
     "name": "stdout",
     "output_type": "stream",
     "text": [
      "סכום הצעדים היומיים של נשים שאכלו פירות וירקות: 54333\n",
      "סכום הצעדים היומיים של גברים שאכלו פירות וירקות: 34477\n"
     ]
    }
   ],
   "source": [
    "\n",
    "# Calculate the total number of daily steps for females who ate fruits and veggies\n",
    "total_female_steps_fruits = life_df[(life_df['GENDER'] == 'Female') & (life_df['FRUITS_VEGGIES'] > 0)]['DAILY_STEPS'].sum()\n",
    "\n",
    "# Calculate the total number of daily steps for males who ate fruits and veggies\n",
    "total_male_steps_fruits = life_df[(life_df['GENDER'] == 'Male') & (life_df['FRUITS_VEGGIES'] > 0)]['DAILY_STEPS'].sum()\n",
    "\n",
    "# Print the results\n",
    "print(\"סכום הצעדים היומיים של נשים שאכלו פירות וירקות:\", total_female_steps_fruits)\n",
    "print(\"סכום הצעדים היומיים של גברים שאכלו פירות וירקות:\", total_male_steps_fruits)"
   ]
  },
  {
   "cell_type": "code",
   "execution_count": null,
   "id": "9cfa676a-0ee3-44f3-8293-1ab30036f7f4",
   "metadata": {},
   "outputs": [],
   "source": [
    "#פילוח לפי גיל של כמות הצעדים היומית של גברים "
   ]
  },
  {
   "cell_type": "code",
   "execution_count": 113,
   "id": "7fb11514-90da-48b3-8429-0d2b335e0f6a",
   "metadata": {
    "tags": []
   },
   "outputs": [
    {
     "name": "stdout",
     "output_type": "stream",
     "text": [
      "            AGE  DAILY_STEPS\n",
      "0  Less than 20         4615\n",
      "1      21 to 35        14687\n",
      "2      36 to 50        10068\n",
      "3    51 or more         6347\n"
     ]
    }
   ],
   "source": [
    "# Define the age order\n",
    "age_order = ['Less than 20', '21 to 35', '36 to 50', '51 or more']\n",
    "\n",
    "# Filter and group males by age and sum their daily steps\n",
    "male_steps_by_age = life_df[life_df['GENDER'] == 'Male'].groupby('AGE')[['DAILY_STEPS']].sum().reset_index()\n",
    "\n",
    "# Sort by age order\n",
    "male_steps_by_age['AGE'] = pd.Categorical(male_steps_by_age['AGE'], categories=age_order, ordered=True)\n",
    "male_steps_by_age = male_steps_by_age.sort_values('AGE').reset_index(drop=True)\n",
    "\n",
    "print(male_steps_by_age)"
   ]
  },
  {
   "cell_type": "code",
   "execution_count": 162,
   "id": "732fa7ef-2cc0-4597-9de4-51e896353920",
   "metadata": {
    "tags": []
   },
   "outputs": [],
   "source": [
    "#גרף צירים של פילוח לפי גיל כמות צעדים יומית גברים "
   ]
  },
  {
   "cell_type": "code",
   "execution_count": 172,
   "id": "34dafe51-4db6-49bd-9bae-8e906c7a73d8",
   "metadata": {
    "tags": []
   },
   "outputs": [
    {
     "data": {
      "image/png": "[encoded data removed]",
      "text/plain": [
       "<Figure size 500x500 with 1 Axes>"
      ]
     },
     "metadata": {},
     "output_type": "display_data"
    }
   ],
   "source": [
    "# Define the age order\n",
    "age_order = ['Less than 20', '21 to 35', '36 to 50', '51 or more']\n",
    "\n",
    "# Sample data (replace with your actual data)\n",
    "data = {\n",
    "    'AGE': ['Less than 20', '21 to 35', '36 to 50', '51 or more'],\n",
    "    'DAILY_STEPS': [4615, 14687, 10068, 6347]  \n",
    "}\n",
    "\n",
    "# Create a DataFrame from the data\n",
    "male_steps_by_age = pd.DataFrame(data)\n",
    "\n",
    "# Sort by age order\n",
    "male_steps_by_age['AGE'] = pd.Categorical(male_steps_by_age['AGE'], categories=age_order, ordered=True)\n",
    "male_steps_by_age = male_steps_by_age.sort_values('AGE').reset_index(drop=True)\n",
    "\n",
    "# Plotting the bar chart with lightblue bars\n",
    "plt.figure(figsize=(5, 5))\n",
    "bars = plt.bar(male_steps_by_age['AGE'], male_steps_by_age['DAILY_STEPS'], color='lightblue')\n",
    "\n",
    "# Adding labels and title\n",
    "plt.xlabel('Age Group')\n",
    "plt.ylabel('Total Daily Steps')\n",
    "plt.title('Total Daily Steps by Age Group (Males)')\n",
    "\n",
    "# Display the plot\n",
    "plt.xticks(rotation=45)\n",
    "plt.tight_layout()\n",
    "plt.show()"
   ]
  },
  {
   "cell_type": "code",
   "execution_count": 168,
   "id": "eadf6238-0e1c-4557-a41f-41dbc87183ea",
   "metadata": {
    "tags": []
   },
   "outputs": [
    {
     "name": "stdout",
     "output_type": "stream",
     "text": [
      "            AGE  DAILY_STEPS\n",
      "0  Less than 20         4615\n",
      "1      21 to 35        14687\n",
      "2      36 to 50        10068\n",
      "3    51 or more         6347\n"
     ]
    }
   ],
   "source": [
    "\n",
    "# Define the age order\n",
    "age_order = ['Less than 20', '21 to 35', '36 to 50', '51 or more']\n",
    "\n",
    "# Filter and group males by age and sum their daily steps\n",
    "male_steps_by_age = life_df[life_df['GENDER'] == 'Male'].groupby('AGE')[['DAILY_STEPS']].sum().reset_index()\n",
    "\n",
    "# Sort by age order\n",
    "male_steps_by_age['AGE'] = pd.Categorical(male_steps_by_age['AGE'], categories=age_order, ordered=True)\n",
    "male_steps_by_age = male_steps_by_age.sort_values('AGE').reset_index(drop=True)\n",
    "\n",
    "print(male_steps_by_age)"
   ]
  },
  {
   "cell_type": "code",
   "execution_count": null,
   "id": "d0b67c62-e6d2-4196-8d3b-db52e2a2d5b1",
   "metadata": {},
   "outputs": [],
   "source": [
    "#פילוח לפי גיל של כמות צעדים יומית בקרב נשים "
   ]
  },
  {
   "cell_type": "code",
   "execution_count": 114,
   "id": "ad395919-dc63-4286-b494-7d07c92d8909",
   "metadata": {
    "tags": []
   },
   "outputs": [
    {
     "name": "stdout",
     "output_type": "stream",
     "text": [
      "            AGE  DAILY_STEPS\n",
      "0  Less than 20         6283\n",
      "1      21 to 35        19482\n",
      "2      36 to 50        16796\n",
      "3    51 or more        12820\n"
     ]
    }
   ],
   "source": [
    "\n",
    "# Define the age order\n",
    "age_order = ['Less than 20', '21 to 35', '36 to 50', '51 or more']\n",
    "\n",
    "# Filter and group females by age and sum their daily steps\n",
    "female_steps_by_age = life_df[life_df['GENDER'] == 'Female'].groupby('AGE')[['DAILY_STEPS']].sum().reset_index()\n",
    "\n",
    "# Sort by age order\n",
    "female_steps_by_age['AGE'] = pd.Categorical(female_steps_by_age['AGE'], categories=age_order, ordered=True)\n",
    "female_steps_by_age = female_steps_by_age.sort_values('AGE').reset_index(drop=True)\n",
    "\n",
    "print(female_steps_by_age)"
   ]
  },
  {
   "cell_type": "code",
   "execution_count": 173,
   "id": "16d6dc5c-8025-4bf8-8ebc-c039a70039db",
   "metadata": {
    "tags": []
   },
   "outputs": [
    {
     "data": {
      "image/png": "[encoded data removed]",
      "text/plain": [
       "<Figure size 500x500 with 1 Axes>"
      ]
     },
     "metadata": {},
     "output_type": "display_data"
    }
   ],
   "source": [
    "# Define the age order\n",
    "age_order = ['Less than 20', '21 to 35', '36 to 50', '51 or more']\n",
    "\n",
    "# Sample data (replace with your actual data)\n",
    "data = {\n",
    "    'AGE': ['Less than 20', '21 to 35', '36 to 50', '51 or more'],\n",
    "    'DAILY_STEPS': [6283, 19482, 16796, 12820] \n",
    "}\n",
    "\n",
    "# Create a DataFrame from the data\n",
    "female_steps_by_age = pd.DataFrame(data)\n",
    "\n",
    "# Sort by age order\n",
    "female_steps_by_age['AGE'] = pd.Categorical(female_steps_by_age['AGE'], categories=age_order, ordered=True)\n",
    "female_steps_by_age = female_steps_by_age.sort_values('AGE').reset_index(drop=True)\n",
    "\n",
    "# Plotting the bar chart\n",
    "plt.figure(figsize=(5, 5))\n",
    "bars = plt.bar(female_steps_by_age['AGE'], female_steps_by_age['DAILY_STEPS'], color='pink')\n",
    "\n",
    "# Adding labels and title\n",
    "plt.xlabel('Age Group')\n",
    "plt.ylabel('Total Daily Steps')\n",
    "plt.title('Total Daily Steps by Age Group (Females)')\n",
    "plt.xticks(rotation=45)\n",
    "\n",
    "# Display the plot\n",
    "plt.tight_layout()\n",
    "plt.show()"
   ]
  },
  {
   "cell_type": "code",
   "execution_count": null,
   "id": "646912ad-5033-4fef-8c11-d66aa887d244",
   "metadata": {},
   "outputs": [],
   "source": [
    "#ניתן לראות גם פה שהאוכלוסיה שהולכת הכי הרבה היא 21-35 "
   ]
  },
  {
   "cell_type": "code",
   "execution_count": null,
   "id": "6482717a-ca95-423c-b938-d2b721ad9501",
   "metadata": {},
   "outputs": [],
   "source": [
    "#פילוח לפי שכבות גיל באוכלוסיה של כמות צעדים יומית בקרב גברים שכן אוכל פירות וירקות"
   ]
  },
  {
   "cell_type": "code",
   "execution_count": 111,
   "id": "1417efda-82f0-485b-80d4-d2c5316187fd",
   "metadata": {
    "tags": []
   },
   "outputs": [
    {
     "name": "stdout",
     "output_type": "stream",
     "text": [
      "            AGE  DAILY_STEPS\n",
      "0  Less than 20         4354\n",
      "1      21 to 35        14082\n",
      "2      36 to 50         9796\n",
      "3    51 or more         6245\n"
     ]
    }
   ],
   "source": [
    "\n",
    "# Define the age order\n",
    "age_order = ['Less than 20', '21 to 35', '36 to 50', '51 or more']\n",
    "\n",
    "# Filter and group males who ate fruits and veggies by age and sum their daily steps\n",
    "male_steps_fruits_by_age = life_df[(life_df['GENDER'] == 'Male') & (life_df['FRUITS_VEGGIES'] > 0)].groupby('AGE')[['DAILY_STEPS']].sum().reset_index()\n",
    "\n",
    "# Sort by age order\n",
    "male_steps_fruits_by_age['AGE'] = pd.Categorical(male_steps_fruits_by_age['AGE'], categories=age_order, ordered=True)\n",
    "male_steps_fruits_by_age = male_steps_fruits_by_age.sort_values('AGE').reset_index(drop=True)\n",
    "\n",
    "print(male_steps_fruits_by_age)"
   ]
  },
  {
   "cell_type": "code",
   "execution_count": null,
   "id": "66f49dc9-aeaf-4921-9457-5cb3a55d9691",
   "metadata": {},
   "outputs": [],
   "source": [
    "#פילוח לפי שכבות גיל באוכלוסיה של כמות צעדים יומית בקרב נשים שכן אוכלות פירות וירקות"
   ]
  },
  {
   "cell_type": "code",
   "execution_count": 112,
   "id": "38cfd0f3-172a-4f19-a317-7ee5321e4883",
   "metadata": {
    "tags": []
   },
   "outputs": [
    {
     "name": "stdout",
     "output_type": "stream",
     "text": [
      "            AGE  DAILY_STEPS\n",
      "0  Less than 20         6058\n",
      "1      21 to 35        19020\n",
      "2      36 to 50        16584\n",
      "3    51 or more        12671\n"
     ]
    }
   ],
   "source": [
    "# Define the age order\n",
    "age_order = ['Less than 20', '21 to 35', '36 to 50', '51 or more']\n",
    "\n",
    "# Filter and group females who ate fruits and veggies by age and sum their daily steps\n",
    "female_steps_fruits_by_age = life_df[(life_df['GENDER'] == 'Female') & (life_df['FRUITS_VEGGIES'] > 0)].groupby('AGE')[['DAILY_STEPS']].sum().reset_index()\n",
    "\n",
    "# Sort by age order\n",
    "female_steps_fruits_by_age['AGE'] = pd.Categorical(female_steps_fruits_by_age['AGE'], categories=age_order, ordered=True)\n",
    "female_steps_fruits_by_age = female_steps_fruits_by_age.sort_values('AGE').reset_index(drop=True)\n",
    "\n",
    "print(female_steps_fruits_by_age)"
   ]
  },
  {
   "cell_type": "code",
   "execution_count": null,
   "id": "0905d93f-9415-4980-b7d5-37021c8235f1",
   "metadata": {},
   "outputs": [],
   "source": [
    "#ניתן לשים לב כי מתוך 9858 גברים שהשתתפו במחקר 9602 גברים אוכלים פירות הדבר מעיד על יחס מאוד קטן"
   ]
  },
  {
   "cell_type": "code",
   "execution_count": 115,
   "id": "4efdf205-130b-446a-95bd-9acedfcd1c33",
   "metadata": {
    "tags": []
   },
   "outputs": [],
   "source": [
    "# ולכן המדגם לא מספק ויש צורך לצלול יותר פנימה ולבדוק את כמות הצעדים של אלו שאוכלים 0-2 ירקות ביום לעומת אלו שאוכלים 3-5 "
   ]
  },
  {
   "cell_type": "code",
   "execution_count": 119,
   "id": "a7f41742-0e30-4199-9680-121ef95d9585",
   "metadata": {
    "tags": []
   },
   "outputs": [
    {
     "name": "stdout",
     "output_type": "stream",
     "text": [
      " גברים שאכלו 0 עד 2 פירות וירקות:\n",
      "            AGE  DAILY_STEPS  COUNT\n",
      "0  Less than 20         2136    383\n",
      "1      21 to 35         7041   1366\n",
      "2      36 to 50         3841    750\n",
      "3    51 or more         1920    383\n",
      "\n",
      "גברים שאכלו 3 עד 5 פירות וירקות:\n",
      "            AGE  DAILY_STEPS  COUNT\n",
      "0  Less than 20         2479    371\n",
      "1      21 to 35         7646   1201\n",
      "2      36 to 50         6227    944\n",
      "3    51 or more         4427    716\n"
     ]
    }
   ],
   "source": [
    "\n",
    "# Define the age order\n",
    "age_order = ['Less than 20', '21 to 35', '36 to 50', '51 or more']\n",
    "\n",
    "# Filter, group, and count males who ate 0 to 2 fruits by age and sum their daily steps\n",
    "male_steps_0_2_fruits_by_age = life_df[(life_df['GENDER'] == 'Male') & (life_df['FRUITS_VEGGIES'].between(0, 2))]\\\n",
    "    .groupby('AGE').agg({'DAILY_STEPS': 'sum', 'GENDER': 'count'}).reset_index().rename(columns={'GENDER': 'COUNT'})\n",
    "\n",
    "# Sort by age order\n",
    "male_steps_0_2_fruits_by_age['AGE'] = pd.Categorical(male_steps_0_2_fruits_by_age['AGE'], categories=age_order, ordered=True)\n",
    "male_steps_0_2_fruits_by_age = male_steps_0_2_fruits_by_age.sort_values('AGE').reset_index(drop=True)\n",
    "\n",
    "# Filter, group, and count males who ate 3 to 5 fruits by age and sum their daily steps\n",
    "male_steps_3_5_fruits_by_age = life_df[(life_df['GENDER'] == 'Male') & (life_df['FRUITS_VEGGIES'].between(3, 5))]\\\n",
    "    .groupby('AGE').agg({'DAILY_STEPS': 'sum', 'GENDER': 'count'}).reset_index().rename(columns={'GENDER': 'COUNT'})\n",
    "\n",
    "# Sort by age order\n",
    "male_steps_3_5_fruits_by_age['AGE'] = pd.Categorical(male_steps_3_5_fruits_by_age['AGE'], categories=age_order, ordered=True)\n",
    "male_steps_3_5_fruits_by_age = male_steps_3_5_fruits_by_age.sort_values('AGE').reset_index(drop=True)\n",
    "\n",
    "print(\" גברים שאכלו 0 עד 2 פירות וירקות:\")\n",
    "print(male_steps_0_2_fruits_by_age)\n",
    "\n",
    "print(\"\\nגברים שאכלו 3 עד 5 פירות וירקות:\")\n",
    "print(male_steps_3_5_fruits_by_age)"
   ]
  },
  {
   "cell_type": "code",
   "execution_count": null,
   "id": "43e2b9b8-ca96-4688-8e0f-5487d6b7e65c",
   "metadata": {},
   "outputs": [],
   "source": [
    "#עכשיו בקרב נשים "
   ]
  },
  {
   "cell_type": "code",
   "execution_count": 121,
   "id": "310b40b4-7c81-462d-882a-9c3863d3001f",
   "metadata": {
    "tags": []
   },
   "outputs": [
    {
     "name": "stdout",
     "output_type": "stream",
     "text": [
      "נשים שאכלו 0 עד 2 פירות וירקות :\n",
      "            AGE  DAILY_STEPS  COUNT\n",
      "0  Less than 20         2567    493\n",
      "1      21 to 35         7164   1519\n",
      "2      36 to 50         5019   1056\n",
      "3    51 or more         2624    593\n",
      "\n",
      "נשים שאכלו 3 עד 5 פירות וירקות:\n",
      "            AGE  DAILY_STEPS  COUNT\n",
      "0  Less than 20         3716    572\n",
      "1      21 to 35        12318   2022\n",
      "2      36 to 50        11777   1905\n",
      "3    51 or more        10196   1698\n"
     ]
    }
   ],
   "source": [
    "\n",
    "# Define the age order\n",
    "age_order = ['Less than 20', '21 to 35', '36 to 50', '51 or more']\n",
    "\n",
    "# Filter, group, and count females who ate 0 to 2 fruits by age and sum their daily steps\n",
    "female_steps_0_2_fruits_by_age = life_df[(life_df['GENDER'] == 'Female') & (life_df['FRUITS_VEGGIES'].between(0, 2))]\\\n",
    "    .groupby('AGE').agg({'DAILY_STEPS': 'sum', 'GENDER': 'count'}).reset_index().rename(columns={'GENDER': 'COUNT'})\n",
    "\n",
    "# Sort by age order\n",
    "female_steps_0_2_fruits_by_age['AGE'] = pd.Categorical(female_steps_0_2_fruits_by_age['AGE'], categories=age_order, ordered=True)\n",
    "female_steps_0_2_fruits_by_age = female_steps_0_2_fruits_by_age.sort_values('AGE').reset_index(drop=True)\n",
    "\n",
    "# Filter, group, and count females who ate 3 to 5 fruits by age and sum their daily steps\n",
    "female_steps_3_5_fruits_by_age = life_df[(life_df['GENDER'] == 'Female') & (life_df['FRUITS_VEGGIES'].between(3, 5))]\\\n",
    "    .groupby('AGE').agg({'DAILY_STEPS': 'sum', 'GENDER': 'count'}).reset_index().rename(columns={'GENDER': 'COUNT'})\n",
    "\n",
    "# Sort by age order\n",
    "female_steps_3_5_fruits_by_age['AGE'] = pd.Categorical(female_steps_3_5_fruits_by_age['AGE'], categories=age_order, ordered=True)\n",
    "female_steps_3_5_fruits_by_age = female_steps_3_5_fruits_by_age.sort_values('AGE').reset_index(drop=True)\n",
    "\n",
    "print(\"נשים שאכלו 0 עד 2 פירות וירקות :\")\n",
    "print(female_steps_0_2_fruits_by_age)\n",
    "\n",
    "print(\"\\nנשים שאכלו 3 עד 5 פירות וירקות:\")\n",
    "print(female_steps_3_5_fruits_by_age)"
   ]
  },
  {
   "cell_type": "code",
   "execution_count": null,
   "id": "b32d9882-892f-4b87-872d-c22fd9dae917",
   "metadata": {},
   "outputs": [],
   "source": [
    "#גרף מסכם "
   ]
  },
  {
   "cell_type": "code",
   "execution_count": null,
   "id": "796c7b90-7c9b-4cb3-ac74-016a0146d825",
   "metadata": {},
   "outputs": [],
   "source": []
  },
  {
   "cell_type": "code",
   "execution_count": 127,
   "id": "e9ed71ad-1815-42cb-b0f3-7cb77026a6a3",
   "metadata": {
    "tags": []
   },
   "outputs": [
    {
     "data": {
      "image/png": "[encoded data removed]",
      "text/plain": [
       "<Figure size 1400x1000 with 4 Axes>"
      ]
     },
     "metadata": {},
     "output_type": "display_data"
    }
   ],
   "source": [
    "# Plotting the data for males and females who ate 0 to 2 fruits and 3 to 5 fruits with specified colors\n",
    "fig, axes = plt.subplots(2, 2, figsize=(14, 10))\n",
    "\n",
    "# Colors\n",
    "male_color = 'lightblue'\n",
    "female_color = 'lightcoral'\n",
    "\n",
    "# Males: 0 to 2 fruits\n",
    "axes[0, 0].bar(male_steps_0_2_fruits_by_age['AGE'], male_steps_0_2_fruits_by_age['DAILY_STEPS'], color=male_color)\n",
    "axes[0, 0].set_title('Daily Steps by Age (Males, 0-2 Fruits)')\n",
    "axes[0, 0].set_xlabel('Age Group')\n",
    "axes[0, 0].set_ylabel('Total Daily Steps')\n",
    "\n",
    "# Males: 3 to 5 fruits\n",
    "axes[0, 1].bar(male_steps_3_5_fruits_by_age['AGE'], male_steps_3_5_fruits_by_age['DAILY_STEPS'], color=male_color)\n",
    "axes[0, 1].set_title('Daily Steps by Age (Males, 3-5 Fruits)')\n",
    "axes[0, 1].set_xlabel('Age Group')\n",
    "axes[0, 1].set_ylabel('Total Daily Steps')\n",
    "\n",
    "# Females: 0 to 2 fruits\n",
    "axes[1, 0].bar(female_steps_0_2_fruits_by_age['AGE'], female_steps_0_2_fruits_by_age['DAILY_STEPS'], color=female_color)\n",
    "axes[1, 0].set_title('Daily Steps by Age (Females, 0-2 Fruits)')\n",
    "axes[1, 0].set_xlabel('Age Group')\n",
    "axes[1, 0].set_ylabel('Total Daily Steps')\n",
    "\n",
    "# Females: 3 to 5 fruits\n",
    "axes[1, 1].bar(female_steps_3_5_fruits_by_age['AGE'], female_steps_3_5_fruits_by_age['DAILY_STEPS'], color=female_color)\n",
    "axes[1, 1].set_title('Daily Steps by Age (Females, 3-5 Fruits)')\n",
    "axes[1, 1].set_xlabel('Age Group')\n",
    "axes[1, 1].set_ylabel('Total Daily Steps')\n",
    "\n",
    "plt.tight_layout()\n",
    "plt.show()"
   ]
  },
  {
   "cell_type": "markdown",
   "id": "835a42c9-d620-43c1-b13a-3a6bfe84e5aa",
   "metadata": {
    "tags": []
   },
   "source": [
    " **מסקנה: הממצאים מצביעים על כך שייתכן שקיים יחס חיובי בין כמות הפירות והירקות שנאכלו לבין כמות הצעדים היומית. עם זאת, כדי להסיק מסקנות חד משמעיות, נדרשים ניתוחים סטטיסטיים נוספים ואימות של הממצאים על ידי ניתוחים מתקדמים נוספים.**"
   ]
  },
  {
   "cell_type": "code",
   "execution_count": null,
   "id": "0cc0a007-ad35-497d-9edd-f50850d0c04c",
   "metadata": {},
   "outputs": [],
   "source": []
  }
 ],
 "metadata": {
  "kernelspec": {
   "display_name": "Python 3 (ipykernel)",
   "language": "python",
   "name": "python3"
  },
  "language_info": {
   "codemirror_mode": {
    "name": "ipython",
    "version": 3
   },
   "file_extension": ".py",
   "mimetype": "text/x-python",
   "name": "python",
   "nbconvert_exporter": "python",
   "pygments_lexer": "ipython3",
   "version": "3.11.5"
  }
 },
 "nbformat": 4,
 "nbformat_minor": 5
}
